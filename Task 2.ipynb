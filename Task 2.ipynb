{
 "cells": [
  {
   "cell_type": "code",
   "execution_count": null,
   "id": "a39650eb-7515-48ca-8eb5-bebca3f8c428",
   "metadata": {},
   "outputs": [],
   "source": [
    "# Task 2:-\n",
    "\"\"\"Create an interactive choropleth map using Plotly to visualize global installs by country. Apply filters to show data for only the \n",
    "top 5 app categories and highlight countries where the number of installs exceeds 1 million and App category should not start with \n",
    "character “A” , “C” , “G” and “S” . This Graph should not work between 12 PM tp 6 PM \"\"\""
   ]
  },
  {
   "cell_type": "code",
   "execution_count": 2,
   "id": "5edc2750-90b0-49a3-abc4-d0424e6d581c",
   "metadata": {},
   "outputs": [
    {
     "name": "stdout",
     "output_type": "stream",
     "text": [
      "Requirement already satisfied: plotly in c:\\users\\mihir\\anaconda3\\lib\\site-packages (5.22.0)Note: you may need to restart the kernel to use updated packages.\n",
      "\n",
      "Requirement already satisfied: pandas in c:\\users\\mihir\\anaconda3\\lib\\site-packages (2.2.2)\n",
      "Requirement already satisfied: tenacity>=6.2.0 in c:\\users\\mihir\\anaconda3\\lib\\site-packages (from plotly) (8.2.2)\n",
      "Requirement already satisfied: packaging in c:\\users\\mihir\\anaconda3\\lib\\site-packages (from plotly) (23.2)\n",
      "Requirement already satisfied: numpy>=1.26.0 in c:\\users\\mihir\\anaconda3\\lib\\site-packages (from pandas) (1.26.4)\n",
      "Requirement already satisfied: python-dateutil>=2.8.2 in c:\\users\\mihir\\anaconda3\\lib\\site-packages (from pandas) (2.9.0.post0)\n",
      "Requirement already satisfied: pytz>=2020.1 in c:\\users\\mihir\\anaconda3\\lib\\site-packages (from pandas) (2024.1)\n",
      "Requirement already satisfied: tzdata>=2022.7 in c:\\users\\mihir\\anaconda3\\lib\\site-packages (from pandas) (2023.3)\n",
      "Requirement already satisfied: six>=1.5 in c:\\users\\mihir\\anaconda3\\lib\\site-packages (from python-dateutil>=2.8.2->pandas) (1.16.0)\n"
     ]
    }
   ],
   "source": [
    "pip install plotly pandas"
   ]
  },
  {
   "cell_type": "code",
   "execution_count": 13,
   "id": "87da996f-a1de-477d-bbe4-82e55c669770",
   "metadata": {},
   "outputs": [
    {
     "name": "stdout",
     "output_type": "stream",
     "text": [
      "Unique values in 'Installs' column before cleaning:\n",
      "['10,000+' '500,000+' '5,000,000+' '50,000,000+' '100,000+' '50,000+'\n",
      " '1,000,000+' '10,000,000+' '5,000+' '100,000,000+' '1,000,000,000+'\n",
      " '1,000+' '500,000,000+' '50+' '100+' '500+' '10+' '1+' '5+' '0+' '0'\n",
      " 'Free']\n"
     ]
    }
   ],
   "source": [
    "# Clean the \"Installs\" column by removing non-numeric entries and reattempt processing\n",
    "import pandas as pd\n",
    "import numpy as np\n",
    "\n",
    "# Load the data\n",
    "data_path = 'Play Store Data (2).csv'\n",
    "df = pd.read_csv(data_path)\n",
    "\n",
    "# Check unique values in the \"Installs\" column to identify non-numeric entries\n",
    "print(\"Unique values in 'Installs' column before cleaning:\")\n",
    "print(df['Installs'].unique())"
   ]
  },
  {
   "cell_type": "code",
   "execution_count": 15,
   "id": "4a494de4-f285-465d-8593-43345d442d4a",
   "metadata": {},
   "outputs": [
    {
     "name": "stdout",
     "output_type": "stream",
     "text": [
      "Top 5 Categories by Installs:\n",
      "Category\n",
      "PRODUCTIVITY          14105000000\n",
      "TOOLS                 11325000000\n",
      "PHOTOGRAPHY           10025000000\n",
      "FAMILY                 9895000000\n",
      "NEWS_AND_MAGAZINES     7435000000\n",
      "Name: Installs, dtype: int64\n"
     ]
    }
   ],
   "source": [
    "import plotly.express as px\n",
    "from datetime import datetime\n",
    "\n",
    "# Load data\n",
    "df = pd.read_csv('Play Store Data (2).csv')\n",
    "\n",
    "# Clean installs column\n",
    "df['Installs'] = df['Installs'].replace('Free', '0')  # Replace 'Free' with '0'\n",
    "df['Installs'] = df['Installs'].str.replace('+', '').str.replace(',', '').astype(int)\n",
    "\n",
    "# Filter categories not starting with A, C, G, S\n",
    "df = df[~df['Category'].str.startswith(('A', 'C', 'G', 'S'))]\n",
    "\n",
    "# Get top 5 categories by total installs\n",
    "top_5_categories = df.groupby('Category')['Installs'].sum().nlargest(5).index\n",
    "df_filtered = df[df['Category'].isin(top_5_categories)]\n",
    "\n",
    "# Filter for installs > 1 million\n",
    "df_filtered = df_filtered[df_filtered['Installs'] > 1000000]\n",
    "\n",
    "# Create choropleth map\n",
    "fig = px.choropleth(df_filtered,\n",
    "                    locations=df_filtered['Category'],\n",
    "                    color='Installs',\n",
    "                    title='Top 5 Categories App Installs (>1M installs)',\n",
    "                    color_continuous_scale='Viridis')\n",
    "\n",
    "# Save the plot\n",
    "fig.write_html('app_installs_choropleth.html')\n",
    "\n",
    "# Display summary\n",
    "print(\"\\\n",
    "Top 5 Categories by Installs:\")\n",
    "print(df_filtered.groupby('Category')['Installs'].sum().sort_values(ascending=False))"
   ]
  },
  {
   "cell_type": "code",
   "execution_count": null,
   "id": "799eba8c-e5dc-42cf-9e92-3b6294e9952e",
   "metadata": {},
   "outputs": [],
   "source": []
  }
 ],
 "metadata": {
  "kernelspec": {
   "display_name": "Python 3 (ipykernel)",
   "language": "python",
   "name": "python3"
  },
  "language_info": {
   "codemirror_mode": {
    "name": "ipython",
    "version": 3
   },
   "file_extension": ".py",
   "mimetype": "text/x-python",
   "name": "python",
   "nbconvert_exporter": "python",
   "pygments_lexer": "ipython3",
   "version": "3.12.4"
  }
 },
 "nbformat": 4,
 "nbformat_minor": 5
}
